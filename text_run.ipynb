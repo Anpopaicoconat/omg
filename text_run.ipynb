{
 "cells": [
  {
   "cell_type": "code",
   "execution_count": 1,
   "metadata": {},
   "outputs": [
    {
     "name": "stderr",
     "output_type": "stream",
     "text": [
      "/home/stc/rybin-as/miniconda3/envs/torch/lib/python3.9/site-packages/tqdm/auto.py:22: TqdmWarning: IProgress not found. Please update jupyter and ipywidgets. See https://ipywidgets.readthedocs.io/en/stable/user_install.html\n",
      "  from .autonotebook import tqdm as notebook_tqdm\n"
     ]
    }
   ],
   "source": [
    "import models \n",
    "import datasets\n",
    "import torch\n",
    "import pytorch_lightning as pl\n",
    "import torchmetrics\n",
    "import sklearn\n",
    "import sklearn.preprocessing\n",
    "import pandas as pd\n",
    "import numpy as np"
   ]
  },
  {
   "cell_type": "code",
   "execution_count": 2,
   "metadata": {},
   "outputs": [
    {
     "name": "stdout",
     "output_type": "stream",
     "text": [
      "2442 617 7\n"
     ]
    }
   ],
   "source": [
    "train = pd.read_csv('train.csv')\n",
    "train['transcript'] = train['transcript'].fillna('[непереводимаяиграслов]')\n",
    "val = pd.read_csv('val.csv')\n",
    "val['transcript'] = val['transcript'].fillna('[непереводимаяиграслов]')\n",
    "le = sklearn.preprocessing.LabelEncoder()\n",
    "le.fit(train['EmotionMaxVote'].values)\n",
    "\n",
    "vectorizer = sklearn.feature_extraction.text.TfidfVectorizer(max_features=1000, stop_words='english')\n",
    "vectorizer.fit(train['transcript'])\n",
    "\n",
    "train_dataset = datasets.text_dataset(train['transcript'], train['EmotionMaxVote'], vectorizer=vectorizer)\n",
    "train_dataloader = torch.utils.data.DataLoader(train_dataset, batch_size=32, shuffle=True)\n",
    "\n",
    "val_dataset = datasets.text_dataset(val['transcript'], val['EmotionMaxVote'], vectorizer=vectorizer)\n",
    "val_dataloader = torch.utils.data.DataLoader(val_dataset, batch_size=32, shuffle=True)\n",
    "\n",
    "print(len(train_dataset), len(val_dataset), len(le.classes_))"
   ]
  },
  {
   "cell_type": "code",
   "execution_count": 4,
   "metadata": {},
   "outputs": [
    {
     "name": "stderr",
     "output_type": "stream",
     "text": [
      "GPU available: True, used: True\n",
      "TPU available: False, using: 0 TPU cores\n",
      "IPU available: False, using: 0 IPUs\n",
      "HPU available: False, using: 0 HPUs\n",
      "Missing logger folder: text/tfidf\n",
      "LOCAL_RANK: 0 - CUDA_VISIBLE_DEVICES: [0]\n",
      "\n",
      "  | Name      | Type             | Params\n",
      "-----------------------------------------------\n",
      "0 | D1        | Linear           | 64.1 K\n",
      "1 | D2        | Linear           | 4.2 K \n",
      "2 | D3        | Linear           | 455   \n",
      "3 | drop      | Dropout          | 0     \n",
      "4 | f1_train  | F1Score          | 0     \n",
      "5 | f1_val    | F1Score          | 0     \n",
      "6 | acc_train | Accuracy         | 0     \n",
      "7 | acc_val   | Accuracy         | 0     \n",
      "8 | loss      | CrossEntropyLoss | 0     \n",
      "-----------------------------------------------\n",
      "68.7 K    Trainable params\n",
      "0         Non-trainable params\n",
      "68.7 K    Total params\n",
      "0.275     Total estimated model params size (MB)\n"
     ]
    },
    {
     "name": "stdout",
     "output_type": "stream",
     "text": [
      "                                                                           "
     ]
    },
    {
     "name": "stderr",
     "output_type": "stream",
     "text": [
      "/home/stc/rybin-as/miniconda3/envs/torch/lib/python3.9/site-packages/pytorch_lightning/trainer/connectors/data_connector.py:240: PossibleUserWarning: The dataloader, train_dataloader, does not have many workers which may be a bottleneck. Consider increasing the value of the `num_workers` argument` (try 12 which is the number of cpus on this machine) in the `DataLoader` init to improve performance.\n",
      "  rank_zero_warn(\n"
     ]
    },
    {
     "name": "stdout",
     "output_type": "stream",
     "text": [
      "Epoch 19: 100%|██████████| 97/97 [00:54<00:00,  1.79it/s, loss=0.841, v_num=0] \n"
     ]
    }
   ],
   "source": [
    "model = models.tfidf_model(1000, 7, DR=0.5)\n",
    "logger = pl.loggers.tensorboard.TensorBoardLogger(\"text\", name=\"tfidf\")\n",
    "\n",
    "trainer = pl.Trainer(accelerator=\"gpu\", devices=1, max_epochs=20, logger=logger)\n",
    "trainer.fit(model, train_dataloader, val_dataloader)"
   ]
  },
  {
   "cell_type": "code",
   "execution_count": null,
   "metadata": {},
   "outputs": [],
   "source": [
    "model = models.lstm_model(1000, 7, DR=0.5)\n",
    "logger = pl.loggers.tensorboard.TensorBoardLogger(\"text\", name=\"lstm\")\n",
    "\n",
    "trainer = pl.Trainer(accelerator=\"gpu\", devices=1, max_epochs=20, logger=logger)\n",
    "trainer.fit(model, train_dataloader, val_dataloader)"
   ]
  }
 ],
 "metadata": {
  "interpreter": {
   "hash": "5d42659e231ee60b4434f7142872fe61f6941c0ce0d4f9724cf7f98100868462"
  },
  "kernelspec": {
   "display_name": "Python 3.9.12 ('torch')",
   "language": "python",
   "name": "python3"
  },
  "language_info": {
   "codemirror_mode": {
    "name": "ipython",
    "version": 3
   },
   "file_extension": ".py",
   "mimetype": "text/x-python",
   "name": "python",
   "nbconvert_exporter": "python",
   "pygments_lexer": "ipython3",
   "version": "3.9.12"
  },
  "orig_nbformat": 4
 },
 "nbformat": 4,
 "nbformat_minor": 2
}
